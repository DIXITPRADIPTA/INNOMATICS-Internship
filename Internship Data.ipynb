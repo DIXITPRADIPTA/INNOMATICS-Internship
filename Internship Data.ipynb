{
 "cells": [
  {
   "cell_type": "code",
   "execution_count": 1,
   "id": "e25715cb",
   "metadata": {},
   "outputs": [],
   "source": [
    "import requests\n",
    "import re\n",
    "import pandas as pd\n",
    "import numpy as np\n",
    "from bs4 import BeautifulSoup\n",
    "import matplotlib.pyplot as plt\n",
    "import seaborn as sns\n",
    "import plotly.express as px"
   ]
  },
  {
   "cell_type": "code",
   "execution_count": 3,
   "id": "b5df2c13",
   "metadata": {
    "scrolled": true
   },
   "outputs": [
    {
     "data": {
      "text/plain": [
       "(9742, 3)"
      ]
     },
     "execution_count": 3,
     "metadata": {},
     "output_type": "execute_result"
    }
   ],
   "source": [
    "#reading movie details\n",
    "movie=pd.read_csv(r\"C:\\Users\\admin\\Desktop\\internship dataset\\movies.csv\")\n",
    "movie.shape"
   ]
  },
  {
   "cell_type": "code",
   "execution_count": 6,
   "id": "c71ce2ea",
   "metadata": {},
   "outputs": [
    {
     "data": {
      "text/html": [
       "<div>\n",
       "<style scoped>\n",
       "    .dataframe tbody tr th:only-of-type {\n",
       "        vertical-align: middle;\n",
       "    }\n",
       "\n",
       "    .dataframe tbody tr th {\n",
       "        vertical-align: top;\n",
       "    }\n",
       "\n",
       "    .dataframe thead th {\n",
       "        text-align: right;\n",
       "    }\n",
       "</style>\n",
       "<table border=\"1\" class=\"dataframe\">\n",
       "  <thead>\n",
       "    <tr style=\"text-align: right;\">\n",
       "      <th></th>\n",
       "      <th>movieId</th>\n",
       "      <th>title</th>\n",
       "      <th>genres</th>\n",
       "    </tr>\n",
       "  </thead>\n",
       "  <tbody>\n",
       "    <tr>\n",
       "      <th>0</th>\n",
       "      <td>1</td>\n",
       "      <td>Toy Story (1995)</td>\n",
       "      <td>Adventure|Animation|Children|Comedy|Fantasy</td>\n",
       "    </tr>\n",
       "    <tr>\n",
       "      <th>1</th>\n",
       "      <td>2</td>\n",
       "      <td>Jumanji (1995)</td>\n",
       "      <td>Adventure|Children|Fantasy</td>\n",
       "    </tr>\n",
       "    <tr>\n",
       "      <th>2</th>\n",
       "      <td>3</td>\n",
       "      <td>Grumpier Old Men (1995)</td>\n",
       "      <td>Comedy|Romance</td>\n",
       "    </tr>\n",
       "    <tr>\n",
       "      <th>3</th>\n",
       "      <td>4</td>\n",
       "      <td>Waiting to Exhale (1995)</td>\n",
       "      <td>Comedy|Drama|Romance</td>\n",
       "    </tr>\n",
       "    <tr>\n",
       "      <th>4</th>\n",
       "      <td>5</td>\n",
       "      <td>Father of the Bride Part II (1995)</td>\n",
       "      <td>Comedy</td>\n",
       "    </tr>\n",
       "  </tbody>\n",
       "</table>\n",
       "</div>"
      ],
      "text/plain": [
       "   movieId                               title  \\\n",
       "0        1                    Toy Story (1995)   \n",
       "1        2                      Jumanji (1995)   \n",
       "2        3             Grumpier Old Men (1995)   \n",
       "3        4            Waiting to Exhale (1995)   \n",
       "4        5  Father of the Bride Part II (1995)   \n",
       "\n",
       "                                        genres  \n",
       "0  Adventure|Animation|Children|Comedy|Fantasy  \n",
       "1                   Adventure|Children|Fantasy  \n",
       "2                               Comedy|Romance  \n",
       "3                         Comedy|Drama|Romance  \n",
       "4                                       Comedy  "
      ]
     },
     "execution_count": 6,
     "metadata": {},
     "output_type": "execute_result"
    }
   ],
   "source": [
    "movie.head(5)"
   ]
  },
  {
   "cell_type": "code",
   "execution_count": 4,
   "id": "b5f2870f",
   "metadata": {
    "scrolled": true
   },
   "outputs": [
    {
     "data": {
      "text/plain": [
       "(100836, 4)"
      ]
     },
     "execution_count": 4,
     "metadata": {},
     "output_type": "execute_result"
    }
   ],
   "source": [
    "rating=pd.read_csv(r\"C:\\Users\\admin\\Desktop\\internship dataset\\ratings.csv\")\n",
    "rating.shape"
   ]
  },
  {
   "cell_type": "code",
   "execution_count": 7,
   "id": "064d705f",
   "metadata": {},
   "outputs": [
    {
     "data": {
      "text/html": [
       "<div>\n",
       "<style scoped>\n",
       "    .dataframe tbody tr th:only-of-type {\n",
       "        vertical-align: middle;\n",
       "    }\n",
       "\n",
       "    .dataframe tbody tr th {\n",
       "        vertical-align: top;\n",
       "    }\n",
       "\n",
       "    .dataframe thead th {\n",
       "        text-align: right;\n",
       "    }\n",
       "</style>\n",
       "<table border=\"1\" class=\"dataframe\">\n",
       "  <thead>\n",
       "    <tr style=\"text-align: right;\">\n",
       "      <th></th>\n",
       "      <th>userId</th>\n",
       "      <th>movieId</th>\n",
       "      <th>rating</th>\n",
       "      <th>timestamp</th>\n",
       "    </tr>\n",
       "  </thead>\n",
       "  <tbody>\n",
       "    <tr>\n",
       "      <th>0</th>\n",
       "      <td>1</td>\n",
       "      <td>1</td>\n",
       "      <td>4.0</td>\n",
       "      <td>964982703</td>\n",
       "    </tr>\n",
       "    <tr>\n",
       "      <th>1</th>\n",
       "      <td>1</td>\n",
       "      <td>3</td>\n",
       "      <td>4.0</td>\n",
       "      <td>964981247</td>\n",
       "    </tr>\n",
       "    <tr>\n",
       "      <th>2</th>\n",
       "      <td>1</td>\n",
       "      <td>6</td>\n",
       "      <td>4.0</td>\n",
       "      <td>964982224</td>\n",
       "    </tr>\n",
       "    <tr>\n",
       "      <th>3</th>\n",
       "      <td>1</td>\n",
       "      <td>47</td>\n",
       "      <td>5.0</td>\n",
       "      <td>964983815</td>\n",
       "    </tr>\n",
       "    <tr>\n",
       "      <th>4</th>\n",
       "      <td>1</td>\n",
       "      <td>50</td>\n",
       "      <td>5.0</td>\n",
       "      <td>964982931</td>\n",
       "    </tr>\n",
       "  </tbody>\n",
       "</table>\n",
       "</div>"
      ],
      "text/plain": [
       "   userId  movieId  rating  timestamp\n",
       "0       1        1     4.0  964982703\n",
       "1       1        3     4.0  964981247\n",
       "2       1        6     4.0  964982224\n",
       "3       1       47     5.0  964983815\n",
       "4       1       50     5.0  964982931"
      ]
     },
     "execution_count": 7,
     "metadata": {},
     "output_type": "execute_result"
    }
   ],
   "source": [
    "rating.head()"
   ]
  },
  {
   "cell_type": "code",
   "execution_count": 5,
   "id": "f22187fb",
   "metadata": {},
   "outputs": [
    {
     "data": {
      "text/plain": [
       "610"
      ]
     },
     "execution_count": 5,
     "metadata": {},
     "output_type": "execute_result"
    }
   ],
   "source": [
    "rating['userId'].nunique()"
   ]
  },
  {
   "cell_type": "code",
   "execution_count": 10,
   "id": "5ec18434",
   "metadata": {},
   "outputs": [
    {
     "name": "stdout",
     "output_type": "stream",
     "text": [
      "Movie with maximum number of ratings:\n",
      "                   title  rating_count\n",
      "314  Forrest Gump (1994)           329\n"
     ]
    }
   ],
   "source": [
    "# Group ratings by movieId and count the number of ratings for each movie\n",
    "ratings_count = rating.groupby('movieId').size().reset_index(name='rating_count')\n",
    "\n",
    "# Merge movie titles with their corresponding rating counts\n",
    "movies_with_ratings = movie.merge(ratings_count, on='movieId', how='inner')\n",
    "\n",
    "# Find the movie with the maximum number of ratings\n",
    "max_ratings_movie = movies_with_ratings[movies_with_ratings['rating_count'] == movies_with_ratings['rating_count'].max()]\n",
    "\n",
    "print(\"Movie with maximum number of ratings:\")\n",
    "print(max_ratings_movie[['title','rating_count']])"
   ]
  },
  {
   "cell_type": "code",
   "execution_count": 12,
   "id": "ec8fab3a",
   "metadata": {},
   "outputs": [
    {
     "name": "stdout",
     "output_type": "stream",
     "text": [
      "Tags for 'Matrix, The (1999)':\n",
      "['martial arts' 'sci-fi' 'alternate universe' 'philosophy'\n",
      " 'post apocalyptic']\n"
     ]
    }
   ],
   "source": [
    "tags = pd.read_csv(r\"C:\\Users\\admin\\Desktop\\internship dataset\\tags.csv\")\n",
    "\n",
    "# Filter the tags for 'Matrix, The (1999)' movie\n",
    "matrix_tags = tags[tags['movieId'] == 2571]\n",
    "\n",
    "# Display the unique tags for 'Matrix, The (1999)'\n",
    "unique_matrix_tags = matrix_tags['tag'].unique()\n",
    "print(\"Tags for 'Matrix, The (1999)':\")\n",
    "print(unique_matrix_tags)\n"
   ]
  },
  {
   "cell_type": "code",
   "execution_count": 13,
   "id": "70ccf735",
   "metadata": {},
   "outputs": [
    {
     "name": "stdout",
     "output_type": "stream",
     "text": [
      "The average user rating for 'Terminator 2: Judgment Day (1991)' is: 3.97\n"
     ]
    }
   ],
   "source": [
    "# Find the movie ID for \"Terminator 2: Judgment Day (1991)\"\n",
    "terminator_id = movie[movie['title'] == 'Terminator 2: Judgment Day (1991)']['movieId'].values[0]\n",
    "\n",
    "# Calculate the average rating for Terminator 2 using the movie ID\n",
    "average_rating = rating[rating['movieId'] == terminator_id]['rating'].mean()\n",
    "\n",
    "print(f\"The average user rating for 'Terminator 2: Judgment Day (1991)' is: {average_rating:.2f}\")"
   ]
  },
  {
   "cell_type": "code",
   "execution_count": 21,
   "id": "f5b9a8f5",
   "metadata": {},
   "outputs": [
    {
     "data": {
      "image/png": "[encoded data removed]",
      "text/plain": [
       "<Figure size 1000x600 with 1 Axes>"
      ]
     },
     "metadata": {},
     "output_type": "display_data"
    }
   ],
   "source": [
    "x = movie[movie['title'] == 'Fight Club (1999)']['movieId'].values[0]\n",
    "\n",
    "# Filter ratings for the specified movieId\n",
    "y = rating[rating['movieId'] ==x]\n",
    "\n",
    "# Plot a histogram of user ratings\n",
    "plt.figure(figsize=(10, 6))\n",
    "plt.hist(y['rating'], bins=5, color='skyblue', edgecolor='black')\n",
    "plt.title('User Ratings Distribution for \"Fight Club (1999)\"')\n",
    "plt.xlabel('Rating')\n",
    "plt.ylabel('Number of Ratings')\n",
    "plt.grid(axis='y', alpha=0.75)\n",
    "\n",
    "plt.show()"
   ]
  },
  {
   "cell_type": "code",
   "execution_count": 16,
   "id": "f4f43521",
   "metadata": {},
   "outputs": [
    {
     "name": "stdout",
     "output_type": "stream",
     "text": [
      "      movieId                             title  \\\n",
      "0           1                  Toy Story (1995)   \n",
      "1           2                    Jumanji (1995)   \n",
      "2           3           Grumpier Old Men (1995)   \n",
      "5           6                       Heat (1995)   \n",
      "6           7                    Sabrina (1995)   \n",
      "...       ...                               ...   \n",
      "8287   106782   Wolf of Wall Street, The (2013)   \n",
      "8354   109374  Grand Budapest Hotel, The (2014)   \n",
      "8358   109487               Interstellar (2014)   \n",
      "8457   112852    Guardians of the Galaxy (2014)   \n",
      "8673   122904                   Deadpool (2016)   \n",
      "\n",
      "                                           genres  rating_count  rating_mean  \n",
      "0     Adventure|Animation|Children|Comedy|Fantasy           215     3.920930  \n",
      "1                      Adventure|Children|Fantasy           110     3.431818  \n",
      "2                                  Comedy|Romance            52     3.259615  \n",
      "5                           Action|Crime|Thriller           102     3.946078  \n",
      "6                                  Comedy|Romance            54     3.185185  \n",
      "...                                           ...           ...          ...  \n",
      "8287                           Comedy|Crime|Drama            54     3.916667  \n",
      "8354                                 Comedy|Drama            52     3.778846  \n",
      "8358                                  Sci-Fi|IMAX            73     3.993151  \n",
      "8457                      Action|Adventure|Sci-Fi            59     4.050847  \n",
      "8673               Action|Adventure|Comedy|Sci-Fi            54     3.833333  \n",
      "\n",
      "[436 rows x 5 columns]\n"
     ]
    }
   ],
   "source": [
    "ratings_grouped = rating.groupby('movieId').agg({'rating': ['count', 'mean']}).reset_index()\n",
    "ratings_grouped.columns = ['movieId', 'rating_count', 'rating_mean']\n",
    "\n",
    "\n",
    "merged_df = pd.merge(movie, ratings_grouped, on='movieId', how='inner')\n",
    "\n",
    "#Filter only those movies which have more than 50 user ratings\n",
    "filtered_movies = merged_df[merged_df['rating_count'] > 50]\n",
    "\n",
    "print(filtered_movies)"
   ]
  },
  {
   "cell_type": "code",
   "execution_count": 23,
   "id": "6ac1eb2a",
   "metadata": {},
   "outputs": [
    {
     "name": "stdout",
     "output_type": "stream",
     "text": [
      "The most popular movie based on average user ratings:\n",
      "                                title  rating_mean\n",
      "277  Shawshank Redemption, The (1994)     4.429022\n"
     ]
    }
   ],
   "source": [
    "# Find the movie with the highest average rating\n",
    "most_popular_movie = filtered_movies[filtered_movies['rating_mean'] == filtered_movies['rating_mean'].max()]\n",
    "\n",
    "# Display the most popular movie\n",
    "print(\"The most popular movie based on average user ratings:\")\n",
    "print(most_popular_movie[['title', 'rating_mean']])"
   ]
  },
  {
   "cell_type": "code",
   "execution_count": 24,
   "id": "7e40c0a5",
   "metadata": {},
   "outputs": [
    {
     "name": "stdout",
     "output_type": "stream",
     "text": [
      "                                 title\n",
      "314                Forrest Gump (1994)\n",
      "277   Shawshank Redemption, The (1994)\n",
      "257                Pulp Fiction (1994)\n",
      "510   Silence of the Lambs, The (1991)\n",
      "1938                Matrix, The (1999)\n"
     ]
    }
   ],
   "source": [
    "sorted_movies = merged_df.sort_values(by='rating_count', ascending=False)\n",
    "\n",
    "# Select the top 5 popular movies\n",
    "top_5_movies = sorted_movies.head(5)\n",
    "\n",
    "# Display the top 5 popular movies\n",
    "\n",
    "print(top_5_movies[['title']])\n"
   ]
  },
  {
   "cell_type": "code",
   "execution_count": 25,
   "id": "cfd6ecf3",
   "metadata": {},
   "outputs": [
    {
     "name": "stdout",
     "output_type": "stream",
     "text": [
      "Third most popular Sci-Fi movie based on number of user ratings:\n",
      "title           Jurassic Park (1993)\n",
      "rating_count                     238\n",
      "Name: 418, dtype: object\n"
     ]
    }
   ],
   "source": [
    "# Filter only Sci-Fi movies\n",
    "sci_fi_movies = merged_df[merged_df['genres'].str.contains('Sci-Fi')]\n",
    "\n",
    "# Sort Sci-Fi movies by rating count in descending order\n",
    "sorted_sci_fi_movies = sci_fi_movies.sort_values(by='rating_count', ascending=False)\n",
    "\n",
    "# Select the third most popular Sci-Fi movie\n",
    "third_most_popular_sci_fi_movie = sorted_sci_fi_movies.iloc[2]\n",
    "\n",
    "# Display the third most popular Sci-Fi movie\n",
    "print(\"Third most popular Sci-Fi movie based on number of user ratings:\")\n",
    "print(third_most_popular_sci_fi_movie[['title', 'rating_count']])"
   ]
  },
  {
   "cell_type": "code",
   "execution_count": 26,
   "id": "2269d486",
   "metadata": {},
   "outputs": [],
   "source": [
    "df2=pd.read_csv(r\"C:\\Users\\admin\\Desktop\\internship dataset\\links.csv\")"
   ]
  },
  {
   "cell_type": "code",
   "execution_count": 27,
   "id": "f94c17f3",
   "metadata": {},
   "outputs": [
    {
     "data": {
      "text/html": [
       "<div>\n",
       "<style scoped>\n",
       "    .dataframe tbody tr th:only-of-type {\n",
       "        vertical-align: middle;\n",
       "    }\n",
       "\n",
       "    .dataframe tbody tr th {\n",
       "        vertical-align: top;\n",
       "    }\n",
       "\n",
       "    .dataframe thead th {\n",
       "        text-align: right;\n",
       "    }\n",
       "</style>\n",
       "<table border=\"1\" class=\"dataframe\">\n",
       "  <thead>\n",
       "    <tr style=\"text-align: right;\">\n",
       "      <th></th>\n",
       "      <th>movieId</th>\n",
       "      <th>imdbId</th>\n",
       "      <th>tmdbId</th>\n",
       "    </tr>\n",
       "  </thead>\n",
       "  <tbody>\n",
       "    <tr>\n",
       "      <th>0</th>\n",
       "      <td>1</td>\n",
       "      <td>114709</td>\n",
       "      <td>862.0</td>\n",
       "    </tr>\n",
       "    <tr>\n",
       "      <th>1</th>\n",
       "      <td>2</td>\n",
       "      <td>113497</td>\n",
       "      <td>8844.0</td>\n",
       "    </tr>\n",
       "    <tr>\n",
       "      <th>2</th>\n",
       "      <td>3</td>\n",
       "      <td>113228</td>\n",
       "      <td>15602.0</td>\n",
       "    </tr>\n",
       "    <tr>\n",
       "      <th>3</th>\n",
       "      <td>4</td>\n",
       "      <td>114885</td>\n",
       "      <td>31357.0</td>\n",
       "    </tr>\n",
       "    <tr>\n",
       "      <th>4</th>\n",
       "      <td>5</td>\n",
       "      <td>113041</td>\n",
       "      <td>11862.0</td>\n",
       "    </tr>\n",
       "  </tbody>\n",
       "</table>\n",
       "</div>"
      ],
      "text/plain": [
       "   movieId  imdbId   tmdbId\n",
       "0        1  114709    862.0\n",
       "1        2  113497   8844.0\n",
       "2        3  113228  15602.0\n",
       "3        4  114885  31357.0\n",
       "4        5  113041  11862.0"
      ]
     },
     "execution_count": 27,
     "metadata": {},
     "output_type": "execute_result"
    }
   ],
   "source": [
    "df2.head()"
   ]
  },
  {
   "cell_type": "code",
   "execution_count": 28,
   "id": "d4d3de09",
   "metadata": {},
   "outputs": [],
   "source": [
    "merged_df1 = pd.merge(df2,filtered_movies, on='movieId', how='inner')\n"
   ]
  },
  {
   "cell_type": "code",
   "execution_count": 29,
   "id": "4436711b",
   "metadata": {},
   "outputs": [
    {
     "data": {
      "text/html": [
       "<div>\n",
       "<style scoped>\n",
       "    .dataframe tbody tr th:only-of-type {\n",
       "        vertical-align: middle;\n",
       "    }\n",
       "\n",
       "    .dataframe tbody tr th {\n",
       "        vertical-align: top;\n",
       "    }\n",
       "\n",
       "    .dataframe thead th {\n",
       "        text-align: right;\n",
       "    }\n",
       "</style>\n",
       "<table border=\"1\" class=\"dataframe\">\n",
       "  <thead>\n",
       "    <tr style=\"text-align: right;\">\n",
       "      <th></th>\n",
       "      <th>movieId</th>\n",
       "      <th>imdbId</th>\n",
       "      <th>tmdbId</th>\n",
       "      <th>title</th>\n",
       "      <th>genres</th>\n",
       "      <th>rating_count</th>\n",
       "      <th>rating_mean</th>\n",
       "    </tr>\n",
       "  </thead>\n",
       "  <tbody>\n",
       "    <tr>\n",
       "      <th>0</th>\n",
       "      <td>1</td>\n",
       "      <td>114709</td>\n",
       "      <td>862.0</td>\n",
       "      <td>Toy Story (1995)</td>\n",
       "      <td>Adventure|Animation|Children|Comedy|Fantasy</td>\n",
       "      <td>215</td>\n",
       "      <td>3.920930</td>\n",
       "    </tr>\n",
       "    <tr>\n",
       "      <th>1</th>\n",
       "      <td>2</td>\n",
       "      <td>113497</td>\n",
       "      <td>8844.0</td>\n",
       "      <td>Jumanji (1995)</td>\n",
       "      <td>Adventure|Children|Fantasy</td>\n",
       "      <td>110</td>\n",
       "      <td>3.431818</td>\n",
       "    </tr>\n",
       "    <tr>\n",
       "      <th>2</th>\n",
       "      <td>3</td>\n",
       "      <td>113228</td>\n",
       "      <td>15602.0</td>\n",
       "      <td>Grumpier Old Men (1995)</td>\n",
       "      <td>Comedy|Romance</td>\n",
       "      <td>52</td>\n",
       "      <td>3.259615</td>\n",
       "    </tr>\n",
       "    <tr>\n",
       "      <th>3</th>\n",
       "      <td>6</td>\n",
       "      <td>113277</td>\n",
       "      <td>949.0</td>\n",
       "      <td>Heat (1995)</td>\n",
       "      <td>Action|Crime|Thriller</td>\n",
       "      <td>102</td>\n",
       "      <td>3.946078</td>\n",
       "    </tr>\n",
       "    <tr>\n",
       "      <th>4</th>\n",
       "      <td>7</td>\n",
       "      <td>114319</td>\n",
       "      <td>11860.0</td>\n",
       "      <td>Sabrina (1995)</td>\n",
       "      <td>Comedy|Romance</td>\n",
       "      <td>54</td>\n",
       "      <td>3.185185</td>\n",
       "    </tr>\n",
       "  </tbody>\n",
       "</table>\n",
       "</div>"
      ],
      "text/plain": [
       "   movieId  imdbId   tmdbId                    title  \\\n",
       "0        1  114709    862.0         Toy Story (1995)   \n",
       "1        2  113497   8844.0           Jumanji (1995)   \n",
       "2        3  113228  15602.0  Grumpier Old Men (1995)   \n",
       "3        6  113277    949.0              Heat (1995)   \n",
       "4        7  114319  11860.0           Sabrina (1995)   \n",
       "\n",
       "                                        genres  rating_count  rating_mean  \n",
       "0  Adventure|Animation|Children|Comedy|Fantasy           215     3.920930  \n",
       "1                   Adventure|Children|Fantasy           110     3.431818  \n",
       "2                               Comedy|Romance            52     3.259615  \n",
       "3                        Action|Crime|Thriller           102     3.946078  \n",
       "4                               Comedy|Romance            54     3.185185  "
      ]
     },
     "execution_count": 29,
     "metadata": {},
     "output_type": "execute_result"
    }
   ],
   "source": [
    "merged_df1.head()"
   ]
  },
  {
   "cell_type": "code",
   "execution_count": 30,
   "id": "36dc91e4",
   "metadata": {},
   "outputs": [
    {
     "name": "stdout",
     "output_type": "stream",
     "text": [
      "    movieId\n",
      "61      356\n"
     ]
    }
   ],
   "source": [
    "# Find the movie with the highest rating count\n",
    "max_rating_movie = merged_df1[merged_df1['rating_count'] == merged_df1['rating_count'].max()]\n",
    "\n",
    "print(max_rating_movie[['movieId']])"
   ]
  },
  {
   "cell_type": "code",
   "execution_count": 32,
   "id": "018c6dce",
   "metadata": {},
   "outputs": [
    {
     "name": "stdout",
     "output_type": "stream",
     "text": [
      "     movieId\n",
      "248     2571\n"
     ]
    }
   ],
   "source": [
    "sci_fi_movies = merged_df1[merged_df1['genres'].str.contains('Sci-Fi')]\n",
    "\n",
    "# Find the movie with the highest IMDb rating\n",
    "max_imdb_movie = sci_fi_movies[sci_fi_movies['rating_count'] == sci_fi_movies['rating_count'].max()]\n",
    "\n",
    "\n",
    "print(max_imdb_movie[['movieId']])\n"
   ]
  },
  {
   "cell_type": "code",
   "execution_count": null,
   "id": "6edab102",
   "metadata": {},
   "outputs": [],
   "source": []
  }
 ],
 "metadata": {
  "kernelspec": {
   "display_name": "Python 3 (ipykernel)",
   "language": "python",
   "name": "python3"
  },
  "language_info": {
   "codemirror_mode": {
    "name": "ipython",
    "version": 3
   },
   "file_extension": ".py",
   "mimetype": "text/x-python",
   "name": "python",
   "nbconvert_exporter": "python",
   "pygments_lexer": "ipython3",
   "version": "3.10.9"
  }
 },
 "nbformat": 4,
 "nbformat_minor": 5
}
